{
 "cells": [
  {
   "cell_type": "markdown",
   "metadata": {},
   "source": [
    " ### Machine Learning Project-Linear Regression\n",
    " - Predicting marks of student in final grade by seeing data of their first & second grade & calculating its accuracy\n",
    " - using Linear Regression & plotting it's features."
   ]
  },
  {
   "cell_type": "code",
   "execution_count": 1,
   "metadata": {},
   "outputs": [],
   "source": [
    "import pandas as pd\n",
    "import numpy as np\n",
    "import sklearn\n",
    "from sklearn import linear_model\n",
    "from sklearn.utils import shuffle"
   ]
  },
  {
   "cell_type": "code",
   "execution_count": 6,
   "metadata": {},
   "outputs": [],
   "source": [
    "df=pd.read_csv(\"D:\\Data_file\\Linear_regression_proj\\student.csv\",sep=\";\")"
   ]
  },
  {
   "cell_type": "code",
   "execution_count": 7,
   "metadata": {},
   "outputs": [
    {
     "data": {
      "text/html": [
       "<div>\n",
       "<style scoped>\n",
       "    .dataframe tbody tr th:only-of-type {\n",
       "        vertical-align: middle;\n",
       "    }\n",
       "\n",
       "    .dataframe tbody tr th {\n",
       "        vertical-align: top;\n",
       "    }\n",
       "\n",
       "    .dataframe thead th {\n",
       "        text-align: right;\n",
       "    }\n",
       "</style>\n",
       "<table border=\"1\" class=\"dataframe\">\n",
       "  <thead>\n",
       "    <tr style=\"text-align: right;\">\n",
       "      <th></th>\n",
       "      <th>school</th>\n",
       "      <th>sex</th>\n",
       "      <th>age</th>\n",
       "      <th>address</th>\n",
       "      <th>famsize</th>\n",
       "      <th>Pstatus</th>\n",
       "      <th>Medu</th>\n",
       "      <th>Fedu</th>\n",
       "      <th>Mjob</th>\n",
       "      <th>Fjob</th>\n",
       "      <th>...</th>\n",
       "      <th>famrel</th>\n",
       "      <th>freetime</th>\n",
       "      <th>goout</th>\n",
       "      <th>Dalc</th>\n",
       "      <th>Walc</th>\n",
       "      <th>health</th>\n",
       "      <th>absences</th>\n",
       "      <th>G1</th>\n",
       "      <th>G2</th>\n",
       "      <th>G3</th>\n",
       "    </tr>\n",
       "  </thead>\n",
       "  <tbody>\n",
       "    <tr>\n",
       "      <th>0</th>\n",
       "      <td>GP</td>\n",
       "      <td>F</td>\n",
       "      <td>18</td>\n",
       "      <td>U</td>\n",
       "      <td>GT3</td>\n",
       "      <td>A</td>\n",
       "      <td>4</td>\n",
       "      <td>4</td>\n",
       "      <td>at_home</td>\n",
       "      <td>teacher</td>\n",
       "      <td>...</td>\n",
       "      <td>4</td>\n",
       "      <td>3</td>\n",
       "      <td>4</td>\n",
       "      <td>1</td>\n",
       "      <td>1</td>\n",
       "      <td>3</td>\n",
       "      <td>6</td>\n",
       "      <td>5</td>\n",
       "      <td>6</td>\n",
       "      <td>6</td>\n",
       "    </tr>\n",
       "    <tr>\n",
       "      <th>1</th>\n",
       "      <td>GP</td>\n",
       "      <td>F</td>\n",
       "      <td>17</td>\n",
       "      <td>U</td>\n",
       "      <td>GT3</td>\n",
       "      <td>T</td>\n",
       "      <td>1</td>\n",
       "      <td>1</td>\n",
       "      <td>at_home</td>\n",
       "      <td>other</td>\n",
       "      <td>...</td>\n",
       "      <td>5</td>\n",
       "      <td>3</td>\n",
       "      <td>3</td>\n",
       "      <td>1</td>\n",
       "      <td>1</td>\n",
       "      <td>3</td>\n",
       "      <td>4</td>\n",
       "      <td>5</td>\n",
       "      <td>5</td>\n",
       "      <td>6</td>\n",
       "    </tr>\n",
       "    <tr>\n",
       "      <th>2</th>\n",
       "      <td>GP</td>\n",
       "      <td>F</td>\n",
       "      <td>15</td>\n",
       "      <td>U</td>\n",
       "      <td>LE3</td>\n",
       "      <td>T</td>\n",
       "      <td>1</td>\n",
       "      <td>1</td>\n",
       "      <td>at_home</td>\n",
       "      <td>other</td>\n",
       "      <td>...</td>\n",
       "      <td>4</td>\n",
       "      <td>3</td>\n",
       "      <td>2</td>\n",
       "      <td>2</td>\n",
       "      <td>3</td>\n",
       "      <td>3</td>\n",
       "      <td>10</td>\n",
       "      <td>7</td>\n",
       "      <td>8</td>\n",
       "      <td>10</td>\n",
       "    </tr>\n",
       "    <tr>\n",
       "      <th>3</th>\n",
       "      <td>GP</td>\n",
       "      <td>F</td>\n",
       "      <td>15</td>\n",
       "      <td>U</td>\n",
       "      <td>GT3</td>\n",
       "      <td>T</td>\n",
       "      <td>4</td>\n",
       "      <td>2</td>\n",
       "      <td>health</td>\n",
       "      <td>services</td>\n",
       "      <td>...</td>\n",
       "      <td>3</td>\n",
       "      <td>2</td>\n",
       "      <td>2</td>\n",
       "      <td>1</td>\n",
       "      <td>1</td>\n",
       "      <td>5</td>\n",
       "      <td>2</td>\n",
       "      <td>15</td>\n",
       "      <td>14</td>\n",
       "      <td>15</td>\n",
       "    </tr>\n",
       "    <tr>\n",
       "      <th>4</th>\n",
       "      <td>GP</td>\n",
       "      <td>F</td>\n",
       "      <td>16</td>\n",
       "      <td>U</td>\n",
       "      <td>GT3</td>\n",
       "      <td>T</td>\n",
       "      <td>3</td>\n",
       "      <td>3</td>\n",
       "      <td>other</td>\n",
       "      <td>other</td>\n",
       "      <td>...</td>\n",
       "      <td>4</td>\n",
       "      <td>3</td>\n",
       "      <td>2</td>\n",
       "      <td>1</td>\n",
       "      <td>2</td>\n",
       "      <td>5</td>\n",
       "      <td>4</td>\n",
       "      <td>6</td>\n",
       "      <td>10</td>\n",
       "      <td>10</td>\n",
       "    </tr>\n",
       "  </tbody>\n",
       "</table>\n",
       "<p>5 rows × 33 columns</p>\n",
       "</div>"
      ],
      "text/plain": [
       "  school sex  age address famsize Pstatus  Medu  Fedu     Mjob      Fjob  ...  \\\n",
       "0     GP   F   18       U     GT3       A     4     4  at_home   teacher  ...   \n",
       "1     GP   F   17       U     GT3       T     1     1  at_home     other  ...   \n",
       "2     GP   F   15       U     LE3       T     1     1  at_home     other  ...   \n",
       "3     GP   F   15       U     GT3       T     4     2   health  services  ...   \n",
       "4     GP   F   16       U     GT3       T     3     3    other     other  ...   \n",
       "\n",
       "  famrel freetime  goout  Dalc  Walc health absences  G1  G2  G3  \n",
       "0      4        3      4     1     1      3        6   5   6   6  \n",
       "1      5        3      3     1     1      3        4   5   5   6  \n",
       "2      4        3      2     2     3      3       10   7   8  10  \n",
       "3      3        2      2     1     1      5        2  15  14  15  \n",
       "4      4        3      2     1     2      5        4   6  10  10  \n",
       "\n",
       "[5 rows x 33 columns]"
      ]
     },
     "execution_count": 7,
     "metadata": {},
     "output_type": "execute_result"
    }
   ],
   "source": [
    "df.head()"
   ]
  },
  {
   "cell_type": "code",
   "execution_count": 9,
   "metadata": {},
   "outputs": [],
   "source": [
    "new_df=df[['G1','G2','G3','studytime','failures','absences']]"
   ]
  },
  {
   "cell_type": "code",
   "execution_count": 10,
   "metadata": {},
   "outputs": [
    {
     "data": {
      "text/html": [
       "<div>\n",
       "<style scoped>\n",
       "    .dataframe tbody tr th:only-of-type {\n",
       "        vertical-align: middle;\n",
       "    }\n",
       "\n",
       "    .dataframe tbody tr th {\n",
       "        vertical-align: top;\n",
       "    }\n",
       "\n",
       "    .dataframe thead th {\n",
       "        text-align: right;\n",
       "    }\n",
       "</style>\n",
       "<table border=\"1\" class=\"dataframe\">\n",
       "  <thead>\n",
       "    <tr style=\"text-align: right;\">\n",
       "      <th></th>\n",
       "      <th>G1</th>\n",
       "      <th>G2</th>\n",
       "      <th>G3</th>\n",
       "      <th>studytime</th>\n",
       "      <th>failures</th>\n",
       "      <th>absences</th>\n",
       "    </tr>\n",
       "  </thead>\n",
       "  <tbody>\n",
       "    <tr>\n",
       "      <th>0</th>\n",
       "      <td>5</td>\n",
       "      <td>6</td>\n",
       "      <td>6</td>\n",
       "      <td>2</td>\n",
       "      <td>0</td>\n",
       "      <td>6</td>\n",
       "    </tr>\n",
       "    <tr>\n",
       "      <th>1</th>\n",
       "      <td>5</td>\n",
       "      <td>5</td>\n",
       "      <td>6</td>\n",
       "      <td>2</td>\n",
       "      <td>0</td>\n",
       "      <td>4</td>\n",
       "    </tr>\n",
       "    <tr>\n",
       "      <th>2</th>\n",
       "      <td>7</td>\n",
       "      <td>8</td>\n",
       "      <td>10</td>\n",
       "      <td>2</td>\n",
       "      <td>3</td>\n",
       "      <td>10</td>\n",
       "    </tr>\n",
       "    <tr>\n",
       "      <th>3</th>\n",
       "      <td>15</td>\n",
       "      <td>14</td>\n",
       "      <td>15</td>\n",
       "      <td>3</td>\n",
       "      <td>0</td>\n",
       "      <td>2</td>\n",
       "    </tr>\n",
       "    <tr>\n",
       "      <th>4</th>\n",
       "      <td>6</td>\n",
       "      <td>10</td>\n",
       "      <td>10</td>\n",
       "      <td>2</td>\n",
       "      <td>0</td>\n",
       "      <td>4</td>\n",
       "    </tr>\n",
       "  </tbody>\n",
       "</table>\n",
       "</div>"
      ],
      "text/plain": [
       "   G1  G2  G3  studytime  failures  absences\n",
       "0   5   6   6          2         0         6\n",
       "1   5   5   6          2         0         4\n",
       "2   7   8  10          2         3        10\n",
       "3  15  14  15          3         0         2\n",
       "4   6  10  10          2         0         4"
      ]
     },
     "execution_count": 10,
     "metadata": {},
     "output_type": "execute_result"
    }
   ],
   "source": [
    "new_df.head()  #G1 is the first period grade(numeric:0 to 20)\n",
    "               #G2 is the second period grade(numeric:0 to 20)\n",
    "               #G3 is the final grade (numeric:0 to 20)"
   ]
  },
  {
   "cell_type": "code",
   "execution_count": 11,
   "metadata": {},
   "outputs": [],
   "source": [
    "predict='G3'"
   ]
  },
  {
   "cell_type": "code",
   "execution_count": 14,
   "metadata": {},
   "outputs": [],
   "source": [
    "X=np.array(new_df.drop([predict],1))\n",
    "y=np.array(new_df[predict])\n",
    "x_train,x_test,y_train,y_test=sklearn.model_selection.train_test_split(X,y,test_size=0.2)\n",
    "#testing data is 20% of training data"
   ]
  },
  {
   "cell_type": "code",
   "execution_count": 15,
   "metadata": {},
   "outputs": [
    {
     "name": "stdout",
     "output_type": "stream",
     "text": [
      "0.8493211114133693\n"
     ]
    }
   ],
   "source": [
    "linear=linear_model.LinearRegression()\n",
    "linear.fit(x_train,y_train)\n",
    "accuracy=linear.score(x_test,y_test)\n",
    "print(accuracy) #nearly 85% accurate"
   ]
  },
  {
   "cell_type": "code",
   "execution_count": 16,
   "metadata": {},
   "outputs": [
    {
     "name": "stdout",
     "output_type": "stream",
     "text": [
      "Coefficient: [ 0.15360864  0.97208377 -0.24897924 -0.23342336  0.04595873]\n",
      "Intercept: -1.358441116918966\n"
     ]
    }
   ],
   "source": [
    "#now we are using our data ,calculating its coefficient & intercept\n",
    "print('Coefficient:',linear.coef_)\n",
    "print('Intercept:',linear.intercept_)"
   ]
  },
  {
   "cell_type": "code",
   "execution_count": 17,
   "metadata": {},
   "outputs": [
    {
     "name": "stdout",
     "output_type": "stream",
     "text": [
      "8.550584421649862 [9 9 2 0 6] 10\n",
      "13.776458556158918 [13 14  3  0  6] 14\n",
      "3.707803570606025 [6 5 1 2 0] 0\n",
      "9.167101065576729 [10 10  2  1  0] 0\n",
      "14.42457253628372 [15 14  2  0  8] 14\n",
      "14.75544859602711 [11 15  1  0  2] 15\n",
      "13.988305226864806 [16 14  4  0  6] 15\n",
      "10.61813429435731 [11 11  2  0  2] 11\n",
      "11.651909230711034 [12 12  2  0  0] 11\n",
      "8.363296352433913 [10  9  3  0  4] 9\n",
      "9.338833255051364 [ 9 10  2  0  2] 9\n",
      "13.845056001647414 [12 14  1  0  0] 15\n",
      "11.286453923035525 [ 8 12  1  0  0] 12\n",
      "10.61813429435731 [11 11  2  0  2] 11\n",
      "10.21899955443547 [ 9 11  2  0  0] 12\n",
      "12.623992996077742 [12 13  2  0  0] 14\n",
      "11.279547648534042 [10 12  3  0  4] 12\n",
      "12.777601633047361 [13 13  2  0  0] 13\n",
      "10.83343410231394 [13 11  2  0  0] 10\n",
      "6.915848721110583 [ 7  7  1  0 14] 5\n",
      "13.45594190816775 [14 13  1  0  6] 13\n",
      "11.863755901416923 [15 12  3  0  0] 14\n",
      "14.742653971717692 [15 14  2  1 20] 13\n",
      "8.642501887632466 [9 9 2 0 8] 9\n",
      "-0.7811391385375684 [7 0 2 0 0] 0\n",
      "15.274512540672232 [16 15  2  0  2] 15\n",
      "8.42844066067167 [10  9  2  0  0] 9\n",
      "14.810233492512639 [14 15  3  0  4] 16\n",
      "4.323567210252364 [ 5  5  2  0 12] 5\n",
      "19.217588400576716 [17 18  2  0 21] 18\n",
      "12.528622392844397 [13 13  3  0  0] 14\n",
      "-0.7289219148157413 [12  0  3  2  0] 0\n",
      "15.688141137593947 [16 15  2  0 11] 15\n",
      "14.81713976701412 [12 15  1  0  0] 15\n",
      "12.249372759597957 [12 12  2  0 13] 13\n",
      "8.888027990584687 [10  9  2  0 10] 10\n",
      "12.345981943827136 [14 12  1  0  3] 12\n",
      "9.151545185835415 [10 10  3  0  0] 9\n",
      "5.300342693865652 [7 6 1 0 0] 0\n",
      "15.347244431408383 [16 15  3  0  9] 16\n",
      "5.552970802600958 [7 7 2 3 5] 7\n",
      "10.775196068577669 [11 11  1  0  0] 12\n",
      "18.098846370789758 [16 18  2  0  0] 19\n",
      "8.612275592636877 [10  9  2  0  4] 11\n",
      "9.526121324267312 [ 8 10  1  0  4] 10\n",
      "8.73787249086581 [8 9 1 0 8] 10\n",
      "6.050220376774245 [7 7 3 0 6] 7\n",
      "6.325796216467657 [ 6  7  2  1 15] 8\n",
      "6.246290511436533 [ 7  6  2  0 26] 6\n",
      "10.952124726041392 [13 11  3  0  8] 11\n",
      "17.559576777591218 [16 17  1  0  4] 18\n",
      "16.78241276198674 [17 17  4  0  0] 18\n",
      "-1.5396472536587882 [5 0 1 3 0] 0\n",
      "10.464525657387693 [10 11  2  0  2] 12\n",
      "13.11725975823709 [10 13  1  0 12] 12\n",
      "13.393056254232791 [12 14  3  0  1] 15\n",
      "10.710051760339914 [11 11  2  0  4] 11\n",
      "7.9676147497628165 [7 9 2 0 0] 8\n",
      "5.709323670588677 [7 7 4 0 4] 6\n",
      "5.44200022157841 [ 6  6  2  2 22] 4\n",
      "11.8753456350193 [10  9  2  0 75] 9\n",
      "9.181771480831005 [ 9 10  3  0  4] 10\n",
      "4.830042835691611 [8 6 2 2 2] 5\n",
      "12.878301164476305 [14 12  2  0 20] 13\n",
      "4.584649192945898 [ 6  5  1  1 14] 5\n",
      "12.203414026606655 [12 12  2  0 12] 11\n",
      "7.51680948529614 [8 8 2 0 8] 6\n",
      "7.069324897873692 [9 8 2 1 0] 0\n",
      "8.099779157183185 [10  8  2  0 14] 9\n",
      "11.199909483296409 [12 12  4  0  1] 12\n",
      "14.967295266732998 [14 15  2  0  2] 15\n",
      "9.400524426038379 [10 10  2  0  0] 10\n",
      "14.81368662976338 [13 15  2  0  2] 16\n",
      "13.115045201982184 [14 13  2  0  4] 13\n",
      "6.177055855999014 [8 7 2 0 0] 8\n",
      "14.22381068337485 [13 15  4  0  0] 15\n",
      "16.07380209382287 [15 16  3  0  7] 15\n",
      "13.684541090176314 [13 14  3  0  4] 14\n",
      "9.133554093536908 [11  9  2  0 12] 9\n"
     ]
    }
   ],
   "source": [
    "#checking our predicted results with our actual results\n",
    "predictions=linear.predict(x_test)#we are storing our prediction in predictions variable\n",
    "\n",
    "for i in range(len(predictions)):\n",
    "    print(predictions[i],x_test[i],y_test[i])  #these are our results"
   ]
  },
  {
   "cell_type": "code",
   "execution_count": 18,
   "metadata": {},
   "outputs": [],
   "source": [
    "import seaborn as sns\n",
    "%matplotlib inline"
   ]
  },
  {
   "cell_type": "code",
   "execution_count": 19,
   "metadata": {},
   "outputs": [
    {
     "name": "stderr",
     "output_type": "stream",
     "text": [
      "D:\\Anaconda\\lib\\site-packages\\seaborn\\axisgrid.py:2065: UserWarning: The `size` parameter has been renamed to `height`; pleaes update your code.\n",
      "  warnings.warn(msg, UserWarning)\n"
     ]
    },
    {
     "data": {
      "text/plain": [
       "<seaborn.axisgrid.PairGrid at 0x21b6329e940>"
      ]
     },
     "execution_count": 19,
     "metadata": {},
     "output_type": "execute_result"
    },
    {
     "data": {
      "image/png": "[encoded data removed]",
      "text/plain": [
       "<Figure size 1764x504 with 5 Axes>"
      ]
     },
     "metadata": {
      "needs_background": "light"
     },
     "output_type": "display_data"
    }
   ],
   "source": [
    "sns.pairplot(new_df,x_vars=['G1','G2','studytime','failures','absences'],y_vars='G3',size=7,aspect=0.7,kind='reg')"
   ]
  },
  {
   "cell_type": "code",
   "execution_count": 20,
   "metadata": {},
   "outputs": [
    {
     "name": "stdout",
     "output_type": "stream",
     "text": [
      "(316, 5)\n",
      "(79, 5)\n"
     ]
    }
   ],
   "source": [
    "#Knowing the size of train & test datasets\n",
    "print(x_train.shape)\n",
    "print(x_test.shape)"
   ]
  },
  {
   "cell_type": "code",
   "execution_count": 21,
   "metadata": {},
   "outputs": [
    {
     "name": "stdout",
     "output_type": "stream",
     "text": [
      "(316,)\n",
      "(79,)\n"
     ]
    }
   ],
   "source": [
    "print(y_train.shape) #clearly testing data is 20% of training data\n",
    "print(y_test.shape)"
   ]
  },
  {
   "cell_type": "code",
   "execution_count": null,
   "metadata": {},
   "outputs": [],
   "source": []
  }
 ],
 "metadata": {
  "kernelspec": {
   "display_name": "Python 3",
   "language": "python",
   "name": "python3"
  },
  "language_info": {
   "codemirror_mode": {
    "name": "ipython",
    "version": 3
   },
   "file_extension": ".py",
   "mimetype": "text/x-python",
   "name": "python",
   "nbconvert_exporter": "python",
   "pygments_lexer": "ipython3",
   "version": "3.7.3"
  }
 },
 "nbformat": 4,
 "nbformat_minor": 2
}
